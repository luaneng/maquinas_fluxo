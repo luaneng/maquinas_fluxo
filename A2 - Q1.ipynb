{
 "cells": [
  {
   "cell_type": "markdown",
   "id": "9edc0d61",
   "metadata": {},
   "source": [
    "Uma bomba operando à rotação de n=1800[rpm], desenvolve uma vazão de 5,22[m3/h] de água a partir de um roto de 145[mm] de diâmetro. Pretende-se substituir esse rotor por um outro, adequado à bomba, mas de diâmetro igual a 100[mm]. Quais serão os valores da vazão e da carga, esperadas para o novo conjunto, operando à rotação de n=2200[rpm]?"
   ]
  },
  {
   "cell_type": "code",
   "execution_count": 59,
   "id": "131fe8bd",
   "metadata": {},
   "outputs": [],
   "source": [
    "n1 = 1800 #rpm\n",
    "Q1 = 5.22 #m^3/h\n",
    "d1 = 145 #mm"
   ]
  },
  {
   "cell_type": "code",
   "execution_count": 60,
   "id": "1ca3aa04",
   "metadata": {},
   "outputs": [],
   "source": [
    "n2 = 2200 #rpm\n",
    "d2 = 100 #mm"
   ]
  },
  {
   "cell_type": "markdown",
   "id": "e80c3102",
   "metadata": {},
   "source": [
    "$$ \\lambda $$"
   ]
  },
  {
   "cell_type": "code",
   "execution_count": 61,
   "id": "4b0e18fb",
   "metadata": {},
   "outputs": [
    {
     "data": {
      "text/plain": [
       "1.45"
      ]
     },
     "execution_count": 61,
     "metadata": {},
     "output_type": "execute_result"
    }
   ],
   "source": [
    "𝜆 = d1/d2\n",
    "𝜆"
   ]
  },
  {
   "cell_type": "code",
   "execution_count": 62,
   "id": "e9638031",
   "metadata": {},
   "outputs": [
    {
     "data": {
      "text/plain": [
       "1.1864"
      ]
     },
     "execution_count": 62,
     "metadata": {},
     "output_type": "execute_result"
    }
   ],
   "source": [
    "k = round((n1/n2)*𝜆, 4)\n",
    "k"
   ]
  },
  {
   "cell_type": "markdown",
   "id": "bc848a2f",
   "metadata": {},
   "source": [
    "# ![markdown](https://i.ibb.co/JzLyBfG/img3.png)"
   ]
  },
  {
   "cell_type": "code",
   "execution_count": 75,
   "id": "fbbf77e2",
   "metadata": {},
   "outputs": [],
   "source": [
    "H1 = 12 #m"
   ]
  },
  {
   "cell_type": "code",
   "execution_count": 76,
   "id": "7fd2b633",
   "metadata": {},
   "outputs": [],
   "source": [
    "from sympy.solvers import solve as eq\n",
    "from sympy import symbols\n",
    "from numpy import sqrt"
   ]
  },
  {
   "cell_type": "code",
   "execution_count": 85,
   "id": "4529e174",
   "metadata": {},
   "outputs": [
    {
     "data": {
      "text/plain": [
       "8.526"
      ]
     },
     "execution_count": 85,
     "metadata": {},
     "output_type": "execute_result"
    }
   ],
   "source": [
    "H2 = round(H1*((1/𝜆)**2)*((n2/n1)**2), 4)\n",
    "H2"
   ]
  },
  {
   "cell_type": "code",
   "execution_count": 94,
   "id": "086d9855",
   "metadata": {},
   "outputs": [
    {
     "data": {
      "text/plain": [
       "2.0927"
      ]
     },
     "execution_count": 94,
     "metadata": {},
     "output_type": "execute_result"
    }
   ],
   "source": [
    "Q1s = Q1/3600    #m^3/s\n",
    "Q2 = round((Q1s/(𝜆**2))*(1/sqrt(H1/H2))*3600, 4)\n",
    "Q2"
   ]
  },
  {
   "cell_type": "markdown",
   "id": "e4fd8327",
   "metadata": {},
   "source": [
    "$$ H = 8,526 m$$\n",
    "$$ Q = 2,0927 m^3/h$$"
   ]
  }
 ],
 "metadata": {
  "kernelspec": {
   "display_name": "Python 3",
   "language": "python",
   "name": "python3"
  },
  "language_info": {
   "codemirror_mode": {
    "name": "ipython",
    "version": 3
   },
   "file_extension": ".py",
   "mimetype": "text/x-python",
   "name": "python",
   "nbconvert_exporter": "python",
   "pygments_lexer": "ipython3",
   "version": "3.8.8"
  }
 },
 "nbformat": 4,
 "nbformat_minor": 5
}
