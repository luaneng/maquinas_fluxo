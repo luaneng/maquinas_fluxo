{
 "cells": [
  {
   "cell_type": "markdown",
   "id": "5aa923c7",
   "metadata": {},
   "source": [
    "Pretende-se utilizar duas bombas em associação: uma Bomba 1 e outra, chamada aqui de Bomba 2. A instalação vai operar no ponto S, para a associação em série dessas bombas e no ponto P, para uma associação em paralelo. No ponto S, as bombas 1 e 2 apresentam, operando sozinhas, as cargas de H1S=38[m] e H2S=45[m], respectivamente. Da mesma forma, no ponto P, as bombas 1 e 2 apresentam, operando sozinhas, as vazões de Q1P=24[m3/h] e Q2P=8[m3/h], respectivamente. Além disso, a Bomba 1 apresenta eficiências de η1S=0,8 e η1P=0,63, nos pontos S e P, respectivamente. A bomba 2, por outro lado, apresenta eficiências de η2S=0,8 e η2P=0,69, também nos pontos S e P, respectivamente. Calcule os valores teóricos das eficiências dos conjuntos operando em série, ηs, e em paralelo, ηp."
   ]
  },
  {
   "cell_type": "code",
   "execution_count": 1,
   "id": "fa78f857",
   "metadata": {},
   "outputs": [],
   "source": [
    "H1S, H2S = 38, 45 #m\n",
    "Q1P, Q2P = 24, 8 #m^3/h\n",
    "\n",
    "η1S, η2S =0.8, 0.8\n",
    "η1P, η2P=0.63, 0.69"
   ]
  },
  {
   "cell_type": "markdown",
   "id": "5f524667",
   "metadata": {},
   "source": [
    "Serie"
   ]
  },
  {
   "cell_type": "code",
   "execution_count": 3,
   "id": "a7a82335",
   "metadata": {},
   "outputs": [],
   "source": [
    "HS = H1S + H2S"
   ]
  },
  {
   "cell_type": "code",
   "execution_count": 4,
   "id": "ebc1edb6",
   "metadata": {},
   "outputs": [
    {
     "data": {
      "text/plain": [
       "0.8"
      ]
     },
     "execution_count": 4,
     "metadata": {},
     "output_type": "execute_result"
    }
   ],
   "source": [
    "ηS = HS/( (H1S/η1S) + (H2S/η2S) )\n",
    "ηS"
   ]
  },
  {
   "cell_type": "markdown",
   "id": "47bc7607",
   "metadata": {},
   "source": [
    "$$ \\eta_{S} = 0,8 $$"
   ]
  },
  {
   "cell_type": "markdown",
   "id": "2c10305b",
   "metadata": {},
   "source": [
    "Paralelo"
   ]
  },
  {
   "cell_type": "code",
   "execution_count": 7,
   "id": "205e8d82",
   "metadata": {},
   "outputs": [],
   "source": [
    "QP = Q1P + Q2P"
   ]
  },
  {
   "cell_type": "code",
   "execution_count": 8,
   "id": "29a42563",
   "metadata": {},
   "outputs": [
    {
     "data": {
      "text/plain": [
       "0.644"
      ]
     },
     "execution_count": 8,
     "metadata": {},
     "output_type": "execute_result"
    }
   ],
   "source": [
    "ηP = QP/( (Q1P/η1P) + (Q2P/η2P) )\n",
    "ηP"
   ]
  },
  {
   "cell_type": "markdown",
   "id": "32df9b10",
   "metadata": {},
   "source": [
    "$$ \\eta_{P} = 0,644 $$"
   ]
  }
 ],
 "metadata": {
  "kernelspec": {
   "display_name": "Python 3",
   "language": "python",
   "name": "python3"
  },
  "language_info": {
   "codemirror_mode": {
    "name": "ipython",
    "version": 3
   },
   "file_extension": ".py",
   "mimetype": "text/x-python",
   "name": "python",
   "nbconvert_exporter": "python",
   "pygments_lexer": "ipython3",
   "version": "3.8.8"
  }
 },
 "nbformat": 4,
 "nbformat_minor": 5
}
