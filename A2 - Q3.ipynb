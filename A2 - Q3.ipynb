{
 "cells": [
  {
   "cell_type": "markdown",
   "id": "a63f40c0",
   "metadata": {},
   "source": [
    "Determine qual o tipo de bomba seria mais eficiente para recalcar à vazão de 21[m3/h], carga igual a 3[m] e operando à rotação de 900[rpm]. Utilize o gráfico de velocidade específica adimensional apresentado no enunciado, associando cada uma das letras a um determinado tipo de máquina nas opções de resposta (Admita que o gráfico apresentado possui valores corretos nos intervalos apresentados)."
   ]
  },
  {
   "attachments": {},
   "cell_type": "markdown",
   "id": "e42973ea",
   "metadata": {},
   "source": [
    "# ![markdown](https://i.ibb.co/4FtP1TF/img2.png)"
   ]
  },
  {
   "cell_type": "markdown",
   "id": "beb530ed",
   "metadata": {},
   "source": [
    "A: Pistão\n",
    "B: Rotativa\n",
    "C: Centrifuga\n",
    "D: Fluxo misto\n",
    "E: Axial"
   ]
  },
  {
   "attachments": {},
   "cell_type": "markdown",
   "id": "ddc96a50",
   "metadata": {},
   "source": [
    "# ![markdown](https://i.ibb.co/2YtsXV6/img1.png)"
   ]
  },
  {
   "cell_type": "markdown",
   "id": "79252222",
   "metadata": {},
   "source": [
    "$$ \\Omega_{s} = N_{qA} $$"
   ]
  },
  {
   "cell_type": "code",
   "execution_count": 45,
   "id": "78c15004",
   "metadata": {},
   "outputs": [],
   "source": [
    "Q = 21   #m^3/h\n",
    "H = 3    #m\n",
    "n = 900  #rpm"
   ]
  },
  {
   "cell_type": "code",
   "execution_count": 46,
   "id": "678537f1",
   "metadata": {},
   "outputs": [],
   "source": [
    "from numpy import sqrt"
   ]
  },
  {
   "cell_type": "code",
   "execution_count": 47,
   "id": "f3c809b9",
   "metadata": {},
   "outputs": [],
   "source": [
    "g = 9.81  #m/s"
   ]
  },
  {
   "cell_type": "code",
   "execution_count": 48,
   "id": "d7430155",
   "metadata": {},
   "outputs": [],
   "source": [
    "Qs = Q/3600   #m^3/s\n",
    "ns = n/60     #rps"
   ]
  },
  {
   "cell_type": "code",
   "execution_count": 49,
   "id": "66e605e9",
   "metadata": {},
   "outputs": [
    {
     "data": {
      "text/plain": [
       "0.0907"
      ]
     },
     "execution_count": 49,
     "metadata": {},
     "output_type": "execute_result"
    }
   ],
   "source": [
    "nqa = round(ns*sqrt(Qs)/(H*g)**(3/4), 4)\n",
    "nqa"
   ]
  },
  {
   "cell_type": "markdown",
   "id": "854a51cf",
   "metadata": {},
   "source": [
    "$$ N_{qA} = 0,0907 $$"
   ]
  },
  {
   "cell_type": "markdown",
   "id": "cb89438b",
   "metadata": {},
   "source": [
    "$$ Para \\: N_{qA} = 0,0907 \\: Bomba \\: rotativa $$"
   ]
  }
 ],
 "metadata": {
  "kernelspec": {
   "display_name": "Python 3",
   "language": "python",
   "name": "python3"
  },
  "language_info": {
   "codemirror_mode": {
    "name": "ipython",
    "version": 3
   },
   "file_extension": ".py",
   "mimetype": "text/x-python",
   "name": "python",
   "nbconvert_exporter": "python",
   "pygments_lexer": "ipython3",
   "version": "3.8.8"
  }
 },
 "nbformat": 4,
 "nbformat_minor": 5
}
