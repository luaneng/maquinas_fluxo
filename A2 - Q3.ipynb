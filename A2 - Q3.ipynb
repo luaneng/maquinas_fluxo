{
 "cells": [
  {
   "cell_type": "markdown",
   "id": "2c6d74c9",
   "metadata": {},
   "source": [
    "Determine qual o tipo de bomba seria mais eficiente para recalcar à vazão de 21[m3/h], carga igual a 3[m] e operando à rotação de 900[rpm]. Utilize o gráfico de velocidade específica adimensional apresentado no enunciado, associando cada uma das letras a um determinado tipo de máquina nas opções de resposta (Admita que o gráfico apresentado possui valores corretos nos intervalos apresentados)."
   ]
  },
  {
   "attachments": {},
   "cell_type": "markdown",
   "id": "57b471d9",
   "metadata": {},
   "source": [
    "# ![markdown](https://i.ibb.co/4FtP1TF/img2.png)"
   ]
  },
  {
   "cell_type": "markdown",
   "id": "9cc69c59",
   "metadata": {},
   "source": [
    "A: Pistão\n",
    "B: Rotativa\n",
    "C: Centrifuga\n",
    "D: Fluxo misto\n",
    "E: Axial"
   ]
  },
  {
   "attachments": {},
   "cell_type": "markdown",
   "id": "c50d8a5b",
   "metadata": {},
   "source": [
    "# ![markdown](https://i.ibb.co/2YtsXV6/img1.png)"
   ]
  },
  {
   "cell_type": "markdown",
   "id": "64cd8cec",
   "metadata": {},
   "source": [
    "$$ \\Omega_{s} = N_{qA} $$"
   ]
  },
  {
   "cell_type": "code",
   "execution_count": 27,
   "id": "4d0c4429",
   "metadata": {},
   "outputs": [],
   "source": [
    "Q = 21   #m^3/h\n",
    "H = 3    #m\n",
    "n = 900  #rpm"
   ]
  },
  {
   "cell_type": "code",
   "execution_count": 28,
   "id": "0ab63c86",
   "metadata": {},
   "outputs": [],
   "source": [
    "from numpy import sqrt"
   ]
  },
  {
   "cell_type": "code",
   "execution_count": 29,
   "id": "dad106bb",
   "metadata": {},
   "outputs": [
    {
     "data": {
      "text/plain": [
       "1809.3026"
      ]
     },
     "execution_count": 29,
     "metadata": {},
     "output_type": "execute_result"
    }
   ],
   "source": [
    "nq = round(n*sqrt(Q)/H**(3/4), 4)\n",
    "nq"
   ]
  },
  {
   "cell_type": "code",
   "execution_count": 30,
   "id": "f46cf8fa",
   "metadata": {},
   "outputs": [
    {
     "data": {
      "text/plain": [
       "6603.9545"
      ]
     },
     "execution_count": 30,
     "metadata": {},
     "output_type": "execute_result"
    }
   ],
   "source": [
    "ns = round(3.65*nq, 4)\n",
    "ns"
   ]
  },
  {
   "cell_type": "code",
   "execution_count": 31,
   "id": "d335efe3",
   "metadata": {},
   "outputs": [],
   "source": [
    "g = 9.81  #m/s"
   ]
  },
  {
   "cell_type": "code",
   "execution_count": 32,
   "id": "bfae23db",
   "metadata": {},
   "outputs": [],
   "source": [
    "Q = Q/3600   #m^3/s"
   ]
  },
  {
   "cell_type": "code",
   "execution_count": 33,
   "id": "d3cc022e",
   "metadata": {},
   "outputs": [
    {
     "data": {
      "text/plain": [
       "5.4401"
      ]
     },
     "execution_count": 33,
     "metadata": {},
     "output_type": "execute_result"
    }
   ],
   "source": [
    "nqa = round(n*sqrt(Q)/(H*g)**(3/4), 4)\n",
    "nqa"
   ]
  },
  {
   "cell_type": "markdown",
   "id": "dc6fd9b1",
   "metadata": {},
   "source": [
    "$$ N_{s} = 6603,9545 $$\n",
    "$$ N_{qA} = 5,4401 $$"
   ]
  },
  {
   "cell_type": "markdown",
   "id": "119ae8c3",
   "metadata": {},
   "source": [
    "$$ Para \\: N_{qA} = 5,4401 \\: Bomba \\: axial $$"
   ]
  }
 ],
 "metadata": {
  "kernelspec": {
   "display_name": "Python 3",
   "language": "python",
   "name": "python3"
  },
  "language_info": {
   "codemirror_mode": {
    "name": "ipython",
    "version": 3
   },
   "file_extension": ".py",
   "mimetype": "text/x-python",
   "name": "python",
   "nbconvert_exporter": "python",
   "pygments_lexer": "ipython3",
   "version": "3.8.8"
  }
 },
 "nbformat": 4,
 "nbformat_minor": 5
}
